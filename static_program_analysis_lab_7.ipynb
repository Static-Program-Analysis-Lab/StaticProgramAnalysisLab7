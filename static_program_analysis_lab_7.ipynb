{
 "cells": [
  {
   "cell_type": "markdown",
   "id": "872fbe1309473b73",
   "metadata": {
    "collapsed": false
   },
   "source": [
    "# &#128214; Lab 7: Call Graph"
   ]
  },
  {
   "cell_type": "markdown",
   "id": "3b617b2ad62fc6a1",
   "metadata": {
    "collapsed": false
   },
   "source": [
    "## &#128214; Exercise 1: Building a Call Graph\n",
    "\n",
    "### &#127919; Objective\n",
    "In the preceding exercises, you've delved into class hierarchy analysis and points-to analysis. \n",
    "Now, it's time to leverage the information from the points-to analysis to construct a Call Graph. \n",
    "A Call Graph illustrates the calling relationships between functions or methods in a program, which is instrumental in performing interprocedural analysis. \n",
    "The goal of this exercise is to generate a Call Graph that integrates the points-to information to achieve a more accurate representation of the possible method invocations.\n",
    "\n",
    "### &#128214; Background\n",
    "A Call Graph is a directed graph where nodes represent methods or functions, and edges signify the calling relationships. \n",
    "However, in object-oriented languages, the exact method being called may depend on the runtime type of the object. \n",
    "Points-to analysis helps to over-approximate the possible types an object variable can point to, and thereby the possible methods that can be called.\n",
    "\n",
    "### &#10145; Tasks\n",
    "1. Utilize the points-to set information from the previous exercise to determine the possible target methods for each method call.\n",
    "2. Create nodes for each method and edges for each method invocation identified. An edge from method A to method B signifies that method A calls method B."
   ]
  },
  {
   "cell_type": "markdown",
   "id": "629ee1c4f31c9e1b",
   "metadata": {
    "collapsed": false
   },
   "source": [
    "### Import the necessary library\n",
    "\n",
    "&#128161; *In the following cell, we will import the library needed for this exercise:*\n",
    "- `ast`: a module of the python standard library to transform Python code in its AST representation\n",
    "- `graphviz`: a library to create directed graphs\n"
   ]
  },
  {
   "cell_type": "code",
   "execution_count": null,
   "id": "57d6059ea47fe183",
   "metadata": {
    "collapsed": false
   },
   "outputs": [],
   "source": [
    "import ast\n",
    "import graphviz"
   ]
  },
  {
   "cell_type": "markdown",
   "id": "b58deea0988eee16",
   "metadata": {
    "collapsed": false
   },
   "source": [
    "Python code\n",
    "\n",
    "&#128161; The following cell contains a string that represents the Python code that will be analyzed through this exercise"
   ]
  },
  {
   "cell_type": "code",
   "execution_count": null,
   "id": "74eb564a240c5c84",
   "metadata": {
    "collapsed": false
   },
   "outputs": [],
   "source": [
    "code = \"\"\"\n",
    "class Language:\n",
    "    def __init__(self):\n",
    "        pass\n",
    "    def say_hello(self, first_name):\n",
    "        print(f\"Saluton {first_name} el ĝenerala lingvo.\")\n",
    "\n",
    "\n",
    "class French(Language):\n",
    "    def say_hello(self, first_name):\n",
    "        print(f\"Bonjour {first_name}.\")\n",
    "\n",
    "class English(Language):\n",
    "    def say_hello(self, first_name):\n",
    "        print(f\"Hello {first_name}.\")\n",
    "\n",
    "class German(Language):\n",
    "    def say_hello(self, first_name):\n",
    "        print(f\"Hallo {first_name}.\")\n",
    "\n",
    "class Spanish(Language):\n",
    "    def say_hello(self, first_name):\n",
    "        print(f\"Hola {first_name}.\")\n",
    "\n",
    "class Italian(Language):\n",
    "    def say_hello(self, first_name):\n",
    "        print(f\"Ciao {first_name}.\")\n",
    "\n",
    "class Portuguese(Language):\n",
    "    def say_hello(self, first_name):\n",
    "        print(f\"Olá {first_name}.\")\n",
    "\n",
    "if x > 5:\n",
    "    obj = French()\n",
    "else:\n",
    "    obj = English()\n",
    "    \n",
    "obj.say_hello(\"Patrick\")\n",
    "    \n",
    "if y < 3:\n",
    "    obj = German()\n",
    "else:\n",
    "    obj = Spanish()\n",
    "\n",
    "obj.say_hello(\"John\")\n",
    "\"\"\""
   ]
  },
  {
   "cell_type": "markdown",
   "id": "9c020dfa229c3e08",
   "metadata": {
    "collapsed": false
   },
   "source": [
    "### Helper Function Explanation\n",
    "\n",
    "In Python, both class instantiation and function calling use the same syntax which leads to an ambiguity when analyzing the AST of a code snippet. \n",
    "Specifically, both operations appear as `ast.Call` nodes within the AST, which makes it difficult to distinguish between the two just by examining the syntax.\n",
    "\n",
    "For instance, consider the following Python code snippet:\n",
    "\n",
    "```python\n",
    "class MyClass:\n",
    "    pass\n",
    "\n",
    "def my_function():\n",
    "    pass\n",
    "\n",
    "obj = MyClass()  # Class instantiation\n",
    "my_function()    # Function call\n",
    "```\n",
    "\n",
    "In the AST, both `MyClass()` and `my_function()` will be represented as `ast.Call` nodes, which could lead to misinterpretation during analysis.\n",
    "\n",
    "To address this issue and provide clearer analysis, we present a helper function that traverses the AST to identify and categorize all class and function definitions. \n",
    "This will later help in accurately interpreting `ast.Call` nodes.\n",
    "\n",
    "### Class and Function Analyzer\n",
    "\n",
    "We define a class `ClassFunctionAnalyzer` which inherits from `ast.NodeVisitor`. \n",
    "This class overrides three methods: `visit_ClassDef`, `visit_FunctionDef`, and `visit_Call`.\n",
    "\n",
    "```python\n",
    "class ClassFunctionAnalyzer(ast.NodeVisitor):\n",
    "    \"\"\"\n",
    "    A node visitor class that walks through the Abstract Syntax Tree (AST) to identify and record all class and function definitions within the code.\n",
    "\n",
    "    Attributes:\n",
    "    classes: A set to store unique class names encountered in the AST.\n",
    "    functions: A set to store unique function names encountered in the AST.\n",
    "    \"\"\"\n",
    "    def __init__(self):\n",
    "        self.classes = set()\n",
    "        self.functions = set()\n",
    "\n",
    "    def visit_ClassDef(self, node):\n",
    "        \"\"\"\n",
    "        Visits a class definition node, adding the class name to the classes set.\n",
    "\n",
    "        Parameters:\n",
    "        node: The class definition node being visited.\n",
    "        \"\"\"\n",
    "        self.classes.add(node.name)\n",
    "        self.generic_visit(node)\n",
    "\n",
    "    def visit_FunctionDef(self, node):\n",
    "        \"\"\"\n",
    "        Visits a function definition node, adding the function name to the functions set.\n",
    "\n",
    "        Parameters:\n",
    "        node: The function definition node being visited.\n",
    "        \"\"\"\n",
    "        self.functions.add(node.name)\n",
    "        self.generic_visit(node)\n",
    "        \n",
    "    def get_call_type(self, name):\n",
    "        \"\"\"\n",
    "        Determines whether a given name corresponds to a class instantiation or a function call.\n",
    "\n",
    "        Parameters:\n",
    "        name: The name of the function or class.\n",
    "\n",
    "        Returns:\n",
    "        str: \"class\" if the name corresponds to a class, \"function\" if it corresponds to a function, or \"unknown\" otherwise.\n",
    "        \"\"\"\n",
    "        if name in self.classes:\n",
    "            return \"class\"\n",
    "        elif name in self.functions:\n",
    "            return \"function\"\n",
    "        else:\n",
    "            return \"unknown\"\n",
    "```\n",
    "\n",
    "#### Explanations:\n",
    "\n",
    "- `__init__`: Initializes two sets, `classes` and `functions`, to store the names of classes and functions respectively.\n",
    "  \n",
    "- `visit_ClassDef`: This method is invoked for every `ast.ClassDef` node encountered. It adds the name of the class to the `classes` set.\n",
    "\n",
    "- `visit_FunctionDef`: This method is invoked for every `ast.FunctionDef` node encountered. It adds the name of the function to the `functions` set.\n",
    "\n",
    "- `visit_Call`: This method is invoked for every `ast.Call` node encountered. It checks whether the called entity is a class or a function by comparing the identifier against the collected sets of class and function names.\n",
    "\n",
    "By using this helper function, you will be able to determine whether an `ast.Call` node represents a class instantiation or a function call, which is important for the points-to analysis you will be performing.\n",
    "Of course, this solution is not optimal/perfect since we might have different functions with the same name in a program, but for simplicity we make the hypothesis that functions are unique. "
   ]
  },
  {
   "cell_type": "code",
   "execution_count": null,
   "id": "c9a420a0fcd265ab",
   "metadata": {
    "collapsed": false
   },
   "outputs": [],
   "source": [
    "class ClassFunctionAnalyzer(ast.NodeVisitor):\n",
    "    \"\"\"\n",
    "    A node visitor class that walks through the Abstract Syntax Tree (AST) to identify and record all class and function definitions within the code.\n",
    "\n",
    "    Attributes:\n",
    "    classes: A set to store unique class names encountered in the AST.\n",
    "    functions: A set to store unique function names encountered in the AST.\n",
    "    \"\"\"\n",
    "    def __init__(self):\n",
    "        self.classes = set()\n",
    "        self.functions = set()\n",
    "\n",
    "    def visit_ClassDef(self, node):\n",
    "        \"\"\"\n",
    "        Visits a class definition node, adding the class name to the classes set.\n",
    "\n",
    "        Parameters:\n",
    "        node: The class definition node being visited.\n",
    "        \"\"\"\n",
    "        self.classes.add(node.name)\n",
    "        self.generic_visit(node)\n",
    "\n",
    "    def visit_FunctionDef(self, node):\n",
    "        \"\"\"\n",
    "        Visits a function definition node, adding the function name to the functions set.\n",
    "\n",
    "        Parameters:\n",
    "        node: The function definition node being visited.\n",
    "        \"\"\"\n",
    "        self.functions.add(node.name)\n",
    "        self.generic_visit(node)\n",
    "        \n",
    "    def get_call_type(self, name):\n",
    "        \"\"\"\n",
    "        Determines whether a given name corresponds to a class instantiation or a function call.\n",
    "\n",
    "        Parameters:\n",
    "        name: The name of the function or class.\n",
    "\n",
    "        Returns:\n",
    "        str: \"class\" if the name corresponds to a class, \"function\" if it corresponds to a function, or \"unknown\" otherwise.\n",
    "        \"\"\"\n",
    "        if name in self.classes:\n",
    "            return \"class\"\n",
    "        elif name in self.functions:\n",
    "            return \"function\"\n",
    "        else:\n",
    "            return \"unknown\""
   ]
  },
  {
   "cell_type": "markdown",
   "id": "71d558ff3e7d05fc",
   "metadata": {
    "collapsed": false
   },
   "source": [
    "### &#128161; How to use the analyzer class to use throughout this lab"
   ]
  },
  {
   "cell_type": "code",
   "execution_count": null,
   "id": "309471c1167ae0fd",
   "metadata": {
    "collapsed": false
   },
   "outputs": [],
   "source": [
    "tree = ast.parse(code)\n",
    "analyzer = ClassFunctionAnalyzer()\n",
    "analyzer.visit(tree)"
   ]
  },
  {
   "cell_type": "markdown",
   "id": "7fdfd0f4e40a038",
   "metadata": {
    "collapsed": false
   },
   "source": [
    "### &#128161; In the following cell, you will reuse the latest `build_points_to_set` you implemented (with the highest level of precision) and build the points-to set of the code provided."
   ]
  },
  {
   "cell_type": "code",
   "execution_count": null,
   "id": "192cecb85f97c5f9",
   "metadata": {
    "collapsed": false
   },
   "outputs": [],
   "source": [
    "def build_points_to_set(node, analyzer):\n",
    "    \"\"\"\n",
    "    Analyzes an AST to gather information about potential class instantiations and method calls.\n",
    "    \n",
    "    Parameters:\n",
    "    node: The root node of the AST.\n",
    "    analyzer: An instance of ClassFunctionAnalyzer.\n",
    "    \n",
    "    Returns:\n",
    "    dict: The points-to set.\n",
    "    \"\"\""
   ]
  },
  {
   "cell_type": "markdown",
   "id": "b097eefc1b0a9a74",
   "metadata": {
    "collapsed": false
   },
   "source": [
    "### Utility Call Graph class\n",
    "\n",
    "&#128161; The following cell contains a utility class to build a Call Graph. \n",
    "You have to use this class to build the call graph."
   ]
  },
  {
   "cell_type": "code",
   "execution_count": null,
   "id": "24742fce95a1dbb3",
   "metadata": {
    "collapsed": false
   },
   "outputs": [],
   "source": [
    "class CallGraph:\n",
    "    \"\"\"A class to represent a call graph.\"\"\"\n",
    "    \n",
    "    def __init__(self):\n",
    "        \"\"\"Initializes an empty call graph.\"\"\"\n",
    "        self.graph = {}\n",
    "    \n",
    "    def add_edge(self, caller, callee):\n",
    "        \"\"\"\n",
    "        Adds an edge from caller to callee in the graph.\n",
    "        \n",
    "        Parameters:\n",
    "        caller: The caller function.\n",
    "        callee: The callee function.\n",
    "        \"\"\"\n",
    "        self.graph.setdefault(caller, set()).add(callee)\n",
    "    \n",
    "    def visualize(self):\n",
    "        \"\"\"Visualizes the call graph.\"\"\"\n",
    "        for caller, callees in self.graph.items():\n",
    "            for callee in callees:\n",
    "                print(f'{caller} -> {callee}')\n",
    "                \n",
    "    def to_dot(self):\n",
    "        \"\"\"\n",
    "        Converts the call graph to a dot representation.\n",
    "        \n",
    "        Returns:\n",
    "        str: The dot representation of the call graph.\n",
    "        \"\"\"\n",
    "        dot_lines = [\"digraph CallGraph {\"]\n",
    "        for caller, callees in self.graph.items():\n",
    "            for callee in callees:\n",
    "                dot_lines.append(f'    \"{caller}\" -> \"{callee}\";')\n",
    "        dot_lines.append(\"}\")\n",
    "        return '\\n'.join(dot_lines)\n",
    "\n"
   ]
  },
  {
   "cell_type": "markdown",
   "id": "3405f1a42ea45923",
   "metadata": {
    "collapsed": false
   },
   "source": [
    "### Instructions for Implementing a Call Graph Builder in Python\n",
    "\n",
    "&#128161; In Python, it's not mandatory for code to be enclosed within a function. \n",
    "In this scenario, we'll assume the root to serve a similar purpose to the main method found in other programming languages.\n",
    "\n",
    "You will be using the `CallGraphBuilder` class, a subclass of `ast.NodeVisitor`, to implement a system for constructing a call graph in Python. This class is designed to analyze Python code and build a graph that represents the relationships between function and method calls.\n",
    "\n",
    "Key aspects to focus on:\n",
    "\n",
    "1. **Class and Function Context**: The `CallGraphBuilder` maintains two stacks - `function_stack` and `class_stack`. The `function_stack` tracks the current function context, while the `class_stack` keeps track of the current class context. This setup helps in accurately identifying where each function or method is being called.\n",
    "\n",
    "2. **Handling Method Calls**: The class is equipped to handle method calls (e.g., `obj.method()`). When a method call is encountered, it's processed to determine the caller and callee, and this relationship is added to the call graph.\n",
    "\n",
    "3. **Graph Construction**: The `call_graph` attribute of the `CallGraphBuilder` instance will store the call graph. It's a `CallGraph` object that holds the edges representing the call relationships.\n",
    "\n",
    "4. **Visiting Different Node Types**: The class overrides methods like `visit_ClassDef`, `visit_FunctionDef`, `visit_Expr`, and `visit_Assign` to handle different types of AST nodes. This ensures that all relevant Python constructs are analyzed to build the call graph.\n",
    "\n",
    "Your task is to implement this `CallGraphBuilder` class to analyze Python source code and build a call graph. "
   ]
  },
  {
   "cell_type": "code",
   "execution_count": null,
   "outputs": [],
   "source": [
    "class CallGraphBuilder(ast.NodeVisitor):\n",
    "    def __init__(self, points_to_set):\n",
    "        self.call_graph = CallGraph()\n",
    "        self.points_to_set = points_to_set"
   ],
   "metadata": {
    "collapsed": false
   },
   "id": "962a7b2e47072290"
  },
  {
   "cell_type": "markdown",
   "id": "a5a6a064edcb5d61",
   "metadata": {
    "collapsed": false
   },
   "source": [
    "### &#128161; In the following cell, you will test your implementation.\n",
    "Build the call graph set using the `build_call_graph` function and print it using the `visualize` function."
   ]
  },
  {
   "cell_type": "code",
   "execution_count": null,
   "id": "be381f8197c907fb",
   "metadata": {
    "collapsed": false,
    "ExecuteTime": {
     "end_time": "2023-12-14T13:29:56.547784Z",
     "start_time": "2023-12-14T13:29:56.546249Z"
    }
   },
   "outputs": [],
   "source": []
  },
  {
   "cell_type": "markdown",
   "id": "91149fb9f767861e",
   "metadata": {
    "collapsed": false
   },
   "source": [
    "### Visualization of the call graph\n",
    "\n",
    "&#128161; In the following cell, you will create a `Digraph` of the `graphviz` library using the `Source()` function that takes a `dot` formatted string as a parameter, and you will display the graph as in the previous Lab.\n",
    "\n",
    "Examples:\n",
    "\n",
    "```python\n",
    "dot_string = call_graph.to_dot()\n",
    "graph = graphviz.Source(dot_string)\n",
    "graph\n",
    "```\n"
   ]
  },
  {
   "cell_type": "code",
   "execution_count": null,
   "id": "d142c074f0948059",
   "metadata": {
    "collapsed": false
   },
   "outputs": [],
   "source": []
  },
  {
   "cell_type": "markdown",
   "id": "d6517124eabf185a",
   "metadata": {
    "collapsed": false
   },
   "source": [
    "Ok, now we know that, in the root function (which doesn't really exist), the say_hello method of the German, French, English, and Spanish classes is called, as well as the constructors of these classes.\n",
    "\n",
    "Note that we only covered methods called on objects, as this is where the challenge lies.\n",
    "Indeed, if a function like \"print\" is called, there's no need for a points-to analysis; we can directly connect the call to this function in the call graph."
   ]
  },
  {
   "cell_type": "markdown",
   "id": "2d9a2672c8d808e",
   "metadata": {
    "collapsed": false
   },
   "source": [
    "### &#128161; Now, you will function calls not performed on objects to the call graph."
   ]
  },
  {
   "cell_type": "markdown",
   "id": "206ba38a35c06518",
   "metadata": {
    "collapsed": false
   },
   "source": [
    "Python code\n",
    "\n",
    "&#128161; The following cell contains a string that represents the Python code that will be analyzed through this exercise"
   ]
  },
  {
   "cell_type": "code",
   "execution_count": null,
   "id": "68fb97c0e1bb5c2d",
   "metadata": {
    "collapsed": false
   },
   "outputs": [],
   "source": [
    "code = \"\"\"\n",
    "class Language:\n",
    "    def __init__(self):\n",
    "        pass\n",
    "    def say_hello(self, first_name):\n",
    "        print(f\"Saluton {first_name} el ĝenerala lingvo.\")\n",
    "\n",
    "\n",
    "class French(Language):\n",
    "    def say_hello(self, first_name):\n",
    "        print(f\"Bonjour {first_name}.\")\n",
    "\n",
    "class English(Language):\n",
    "    def say_hello(self, first_name):\n",
    "        print(f\"Hello {first_name}.\")\n",
    "\n",
    "class German(Language):\n",
    "    def say_hello(self, first_name):\n",
    "        print(f\"Hallo {first_name}.\")\n",
    "\n",
    "class Spanish(Language):\n",
    "    def say_hello(self, first_name):\n",
    "        print(f\"Hola {first_name}.\")\n",
    "\n",
    "class Italian(Language):\n",
    "    def say_hello(self, first_name):\n",
    "        print(f\"Ciao {first_name}.\")\n",
    "\n",
    "class Portuguese(Language):\n",
    "    def say_hello(self, first_name):\n",
    "        print(f\"Olá {first_name}.\")\n",
    "\n",
    "if x > 5:\n",
    "    obj = French()\n",
    "else:\n",
    "    obj = English()\n",
    "    \n",
    "obj.say_hello(\"Patrick\")\n",
    "    \n",
    "if y < 3:\n",
    "    obj = German()\n",
    "else:\n",
    "    obj = Spanish()\n",
    "\n",
    "obj.say_hello(\"John\")\n",
    "\n",
    "print(\"Done\")\n",
    "\"\"\""
   ]
  },
  {
   "cell_type": "markdown",
   "id": "e60b7f1f5a836667",
   "metadata": {
    "collapsed": false
   },
   "source": [
    "&#128161; If we consider this code and apply the previous algorithm that focused on functions called on objects, the \"print\" function would not appear in the call graph.\n",
    "\n",
    "&#10145; Change the `build_call_graph` function so that it appears."
   ]
  },
  {
   "cell_type": "code",
   "execution_count": null,
   "id": "12b569eb1c4d942f",
   "metadata": {
    "collapsed": false
   },
   "outputs": [],
   "source": [
    "class CallGraphBuilder(ast.NodeVisitor):\n",
    "    def __init__(self, points_to_set):\n",
    "        self.call_graph = CallGraph()\n",
    "        self.points_to_set = points_to_set"
   ]
  },
  {
   "cell_type": "markdown",
   "id": "6c15089457d3111",
   "metadata": {
    "collapsed": false
   },
   "source": [
    "### &#128161; In the following cell, you will test your implementation.\n",
    "Build the call graph set using the `build_call_graph` function and print it using the `visualize` function."
   ]
  },
  {
   "cell_type": "code",
   "execution_count": null,
   "id": "f6dac8df737d827",
   "metadata": {
    "collapsed": false
   },
   "outputs": [],
   "source": []
  },
  {
   "cell_type": "markdown",
   "id": "70e0e07192e6ae8a",
   "metadata": {
    "collapsed": false
   },
   "source": [
    "### Visualization of the call graph\n",
    "\n",
    "&#128161; In the following cell, you will create a `Digraph` of the `graphviz` library using the `Source()` function that takes a `dot` formatted string as a parameter, and you will display the graph.\n"
   ]
  },
  {
   "cell_type": "code",
   "execution_count": null,
   "id": "2f6d4a359a4cdeba",
   "metadata": {
    "collapsed": false
   },
   "outputs": [],
   "source": []
  },
  {
   "cell_type": "markdown",
   "id": "9d2e85c62c58dbd5",
   "metadata": {
    "collapsed": false
   },
   "source": [
    "Ok good! Congratulations!\n",
    "\n",
    "But what if now I ask you to use this call graph at a specific program point, say line 38, to know what could be the possible methods called?\n",
    "\n",
    "....\n",
    "\n",
    "You are right, you cannot since there is not such information in the call graph.\n",
    "So what would you do to solve this problem?"
   ]
  }
 ],
 "metadata": {
  "kernelspec": {
   "display_name": "Python 3 (ipykernel)",
   "language": "python",
   "name": "python3"
  },
  "language_info": {
   "codemirror_mode": {
    "name": "ipython",
    "version": 3
   },
   "file_extension": ".py",
   "mimetype": "text/x-python",
   "name": "python",
   "nbconvert_exporter": "python",
   "pygments_lexer": "ipython3",
   "version": "3.9.6"
  }
 },
 "nbformat": 4,
 "nbformat_minor": 5
}
